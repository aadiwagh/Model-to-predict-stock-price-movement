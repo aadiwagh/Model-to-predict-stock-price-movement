{
 "cells": [
  {
   "cell_type": "code",
   "execution_count": 3,
   "metadata": {},
   "outputs": [
    {
     "name": "stdout",
     "output_type": "stream",
     "text": [
      "\n",
      "The following command must be run outside of the IPython shell:\n",
      "\n",
      "    $ pip install pmdarima\n",
      "\n",
      "The Python package manager (pip) can only be used from outside of IPython.\n",
      "Please reissue the `pip` command in a separate terminal or command prompt.\n",
      "\n",
      "See the Python documentation for more information on how to install packages:\n",
      "\n",
      "    https://docs.python.org/3/installing/\n"
     ]
    }
   ],
   "source": [
    "pip install pmdarima"
   ]
  },
  {
   "cell_type": "code",
   "execution_count": 2,
   "metadata": {},
   "outputs": [
    {
     "name": "stdout",
     "output_type": "stream",
     "text": [
      "Collecting pmdarima\n",
      "  Downloading https://files.pythonhosted.org/packages/29/7d/869a72d01c073bda028b851991a6ea08277e2eee9af6ab6423f9852e40fa/pmdarima-1.8.2-cp37-cp37m-win_amd64.whl (591kB)\n",
      "Collecting numpy~=1.19.0 (from pmdarima)\n",
      "  Downloading https://files.pythonhosted.org/packages/ff/18/60ac053857fb924b0324c81200b59c00317ebaa3c14b7478266b50ffed19/numpy-1.19.5-cp37-cp37m-win_amd64.whl (13.2MB)\n",
      "Collecting scikit-learn>=0.22 (from pmdarima)\n",
      "  Downloading https://files.pythonhosted.org/packages/33/ac/98a9c3f4b6e810c45196f6e15e04f9d83fe3d6000eebbb74dfd084446432/scikit_learn-0.24.2-cp37-cp37m-win_amd64.whl (6.8MB)\n",
      "Collecting statsmodels!=0.12.0,>=0.11 (from pmdarima)\n",
      "  Downloading https://files.pythonhosted.org/packages/6c/c2/af416a82fd7f051a5a0eae3abeb0a098baa774c306631a5762b1e011d279/statsmodels-0.12.2-cp37-none-win_amd64.whl (9.3MB)\n",
      "Requirement already satisfied: setuptools!=50.0.0,>=38.6.0 in c:\\users\\adiwa\\anaconda3\\lib\\site-packages (from pmdarima) (40.6.3)\n",
      "Collecting scipy>=1.3.2 (from pmdarima)\n",
      "  Downloading https://files.pythonhosted.org/packages/45/42/fc32b88f0dd6e9dad2850766b7a35024ee5df6a99c5f0836f9d5455d1fde/scipy-1.7.0-cp37-cp37m-win_amd64.whl (33.6MB)\n",
      "Requirement already satisfied: pandas>=0.19 in c:\\users\\adiwa\\anaconda3\\lib\\site-packages (from pmdarima) (1.2.5)\n",
      "Requirement already satisfied: Cython!=0.29.18,>=0.29 in c:\\users\\adiwa\\anaconda3\\lib\\site-packages (from pmdarima) (0.29.2)\n",
      "Requirement already satisfied: urllib3 in c:\\users\\adiwa\\anaconda3\\lib\\site-packages (from pmdarima) (1.24.1)\n",
      "Collecting joblib>=0.11 (from pmdarima)\n",
      "  Downloading https://files.pythonhosted.org/packages/55/85/70c6602b078bd9e6f3da4f467047e906525c355a4dacd4f71b97a35d9897/joblib-1.0.1-py3-none-any.whl (303kB)\n",
      "Collecting threadpoolctl>=2.0.0 (from scikit-learn>=0.22->pmdarima)\n",
      "  Downloading https://files.pythonhosted.org/packages/f7/12/ec3f2e203afa394a149911729357aa48affc59c20e2c1c8297a60f33f133/threadpoolctl-2.1.0-py3-none-any.whl\n",
      "Requirement already satisfied: patsy>=0.5 in c:\\users\\adiwa\\anaconda3\\lib\\site-packages (from statsmodels!=0.12.0,>=0.11->pmdarima) (0.5.1)\n",
      "Requirement already satisfied: python-dateutil>=2.7.3 in c:\\users\\adiwa\\anaconda3\\lib\\site-packages (from pandas>=0.19->pmdarima) (2.7.5)\n",
      "Requirement already satisfied: pytz>=2017.3 in c:\\users\\adiwa\\anaconda3\\lib\\site-packages (from pandas>=0.19->pmdarima) (2018.7)\n",
      "Requirement already satisfied: six in c:\\users\\adiwa\\anaconda3\\lib\\site-packages (from patsy>=0.5->statsmodels!=0.12.0,>=0.11->pmdarima) (1.12.0)\n",
      "Installing collected packages: numpy, scipy, joblib, threadpoolctl, scikit-learn, statsmodels, pmdarima\n",
      "  Found existing installation: numpy 1.21.0\n",
      "    Uninstalling numpy-1.21.0:\n",
      "      Successfully uninstalled numpy-1.21.0\n"
     ]
    },
    {
     "name": "stderr",
     "output_type": "stream",
     "text": [
      "Could not install packages due to an EnvironmentError: [WinError 5] Access is denied: 'C:\\\\Users\\\\adiwa\\\\AppData\\\\Local\\\\Temp\\\\pip-uninstall-n0f1owll\\\\users\\\\adiwa\\\\anaconda3\\\\lib\\\\site-packages\\\\numpy\\\\.libs\\\\libopenblas.gk7gx5keq4f6uyo3p26ulgbqyhgqo7j4.gfortran-win_amd64.dll'\n",
      "Consider using the `--user` option or check the permissions.\n",
      "\n"
     ]
    }
   ],
   "source": [
    "!pip install pmdarima\n"
   ]
  },
  {
   "cell_type": "code",
   "execution_count": 4,
   "metadata": {},
   "outputs": [
    {
     "name": "stdout",
     "output_type": "stream",
     "text": [
      "Collecting pmdarima\n",
      "  Using cached https://files.pythonhosted.org/packages/29/7d/869a72d01c073bda028b851991a6ea08277e2eee9af6ab6423f9852e40fa/pmdarima-1.8.2-cp37-cp37m-win_amd64.whl\n",
      "Collecting joblib>=0.11 (from pmdarima)\n",
      "  Using cached https://files.pythonhosted.org/packages/55/85/70c6602b078bd9e6f3da4f467047e906525c355a4dacd4f71b97a35d9897/joblib-1.0.1-py3-none-any.whl\n",
      "Requirement already satisfied: pandas>=0.19 in c:\\users\\adiwa\\anaconda3\\lib\\site-packages (from pmdarima) (1.2.5)\n",
      "Collecting scipy>=1.3.2 (from pmdarima)\n",
      "  Using cached https://files.pythonhosted.org/packages/45/42/fc32b88f0dd6e9dad2850766b7a35024ee5df6a99c5f0836f9d5455d1fde/scipy-1.7.0-cp37-cp37m-win_amd64.whl\n",
      "Collecting scikit-learn>=0.22 (from pmdarima)\n",
      "  Using cached https://files.pythonhosted.org/packages/33/ac/98a9c3f4b6e810c45196f6e15e04f9d83fe3d6000eebbb74dfd084446432/scikit_learn-0.24.2-cp37-cp37m-win_amd64.whl\n",
      "Collecting statsmodels!=0.12.0,>=0.11 (from pmdarima)\n",
      "  Using cached https://files.pythonhosted.org/packages/6c/c2/af416a82fd7f051a5a0eae3abeb0a098baa774c306631a5762b1e011d279/statsmodels-0.12.2-cp37-none-win_amd64.whl\n",
      "Requirement already satisfied: urllib3 in c:\\users\\adiwa\\anaconda3\\lib\\site-packages (from pmdarima) (1.24.1)\n",
      "Requirement already satisfied: setuptools!=50.0.0,>=38.6.0 in c:\\users\\adiwa\\anaconda3\\lib\\site-packages (from pmdarima) (40.6.3)\n",
      "Requirement already satisfied: numpy~=1.19.0 in c:\\users\\adiwa\\anaconda3\\lib\\site-packages (from pmdarima) (1.19.5)\n",
      "Requirement already satisfied: Cython!=0.29.18,>=0.29 in c:\\users\\adiwa\\anaconda3\\lib\\site-packages (from pmdarima) (0.29.2)\n",
      "Requirement already satisfied: python-dateutil>=2.7.3 in c:\\users\\adiwa\\anaconda3\\lib\\site-packages (from pandas>=0.19->pmdarima) (2.7.5)\n",
      "Requirement already satisfied: pytz>=2017.3 in c:\\users\\adiwa\\anaconda3\\lib\\site-packages (from pandas>=0.19->pmdarima) (2018.7)\n",
      "Collecting threadpoolctl>=2.0.0 (from scikit-learn>=0.22->pmdarima)\n",
      "  Using cached https://files.pythonhosted.org/packages/f7/12/ec3f2e203afa394a149911729357aa48affc59c20e2c1c8297a60f33f133/threadpoolctl-2.1.0-py3-none-any.whl\n",
      "Requirement already satisfied: patsy>=0.5 in c:\\users\\adiwa\\anaconda3\\lib\\site-packages (from statsmodels!=0.12.0,>=0.11->pmdarima) (0.5.1)\n",
      "Requirement already satisfied: six>=1.5 in c:\\users\\adiwa\\anaconda3\\lib\\site-packages (from python-dateutil>=2.7.3->pandas>=0.19->pmdarima) (1.12.0)\n",
      "Installing collected packages: joblib, scipy, threadpoolctl, scikit-learn, statsmodels, pmdarima\n",
      "Successfully installed joblib-1.0.1 pmdarima-1.8.2 scikit-learn-0.24.2 scipy-1.7.0 statsmodels-0.12.2 threadpoolctl-2.1.0\n"
     ]
    }
   ],
   "source": [
    "!pip install pmdarima --user"
   ]
  },
  {
   "cell_type": "code",
   "execution_count": 317,
   "metadata": {},
   "outputs": [],
   "source": [
    "import pandas as pd\n",
    "import numpy as np"
   ]
  },
  {
   "cell_type": "code",
   "execution_count": 318,
   "metadata": {},
   "outputs": [],
   "source": [
    "import yfinance as yf"
   ]
  },
  {
   "cell_type": "code",
   "execution_count": 319,
   "metadata": {},
   "outputs": [
    {
     "name": "stdout",
     "output_type": "stream",
     "text": [
      "[*********************100%***********************]  1 of 1 completed\n"
     ]
    }
   ],
   "source": [
    "ticker=[\"INFY\"]\n",
    "df = yf.download(ticker,start= \"2020-07-01\")"
   ]
  },
  {
   "cell_type": "code",
   "execution_count": 320,
   "metadata": {},
   "outputs": [
    {
     "data": {
      "text/plain": [
       "<bound method NDFrame.head of                  Open       High        Low      Close  Adj Close    Volume\n",
       "Date                                                                       \n",
       "2020-06-30   9.560000   9.700000   9.520000   9.660000   9.458116  10269600\n",
       "2020-07-01   9.560000   9.730000   9.530000   9.680000   9.477698  12302500\n",
       "2020-07-02  10.000000  10.040000   9.890000   9.920000   9.712683  12533400\n",
       "2020-07-06  10.160000  10.230000  10.070000  10.110000   9.898711   8629600\n",
       "2020-07-07  10.330000  10.400000  10.220000  10.240000  10.025994  17172600\n",
       "...               ...        ...        ...        ...        ...       ...\n",
       "2021-06-29  21.309999  21.500000  21.219999  21.450001  21.450001   4748600\n",
       "2021-06-30  21.410000  21.430000  21.170000  21.190001  21.190001   6493500\n",
       "2021-07-01  21.180000  21.240000  20.840000  20.959999  20.959999   4670600\n",
       "2021-07-02  21.100000  21.150000  21.020000  21.070000  21.070000   4908600\n",
       "2021-07-06  21.030001  21.110001  20.980000  21.110001  21.110001   5728600\n",
       "\n",
       "[256 rows x 6 columns]>"
      ]
     },
     "execution_count": 320,
     "metadata": {},
     "output_type": "execute_result"
    }
   ],
   "source": [
    "df.head"
   ]
  },
  {
   "cell_type": "code",
   "execution_count": 321,
   "metadata": {},
   "outputs": [
    {
     "data": {
      "text/html": [
       "<div>\n",
       "<style scoped>\n",
       "    .dataframe tbody tr th:only-of-type {\n",
       "        vertical-align: middle;\n",
       "    }\n",
       "\n",
       "    .dataframe tbody tr th {\n",
       "        vertical-align: top;\n",
       "    }\n",
       "\n",
       "    .dataframe thead th {\n",
       "        text-align: right;\n",
       "    }\n",
       "</style>\n",
       "<table border=\"1\" class=\"dataframe\">\n",
       "  <thead>\n",
       "    <tr style=\"text-align: right;\">\n",
       "      <th></th>\n",
       "      <th>Open</th>\n",
       "      <th>High</th>\n",
       "      <th>Low</th>\n",
       "      <th>Close</th>\n",
       "      <th>Adj Close</th>\n",
       "      <th>Volume</th>\n",
       "    </tr>\n",
       "    <tr>\n",
       "      <th>Date</th>\n",
       "      <th></th>\n",
       "      <th></th>\n",
       "      <th></th>\n",
       "      <th></th>\n",
       "      <th></th>\n",
       "      <th></th>\n",
       "    </tr>\n",
       "  </thead>\n",
       "  <tbody>\n",
       "    <tr>\n",
       "      <th>2020-06-30</th>\n",
       "      <td>9.560000</td>\n",
       "      <td>9.700000</td>\n",
       "      <td>9.520000</td>\n",
       "      <td>9.660000</td>\n",
       "      <td>9.458116</td>\n",
       "      <td>10269600</td>\n",
       "    </tr>\n",
       "    <tr>\n",
       "      <th>2020-07-01</th>\n",
       "      <td>9.560000</td>\n",
       "      <td>9.730000</td>\n",
       "      <td>9.530000</td>\n",
       "      <td>9.680000</td>\n",
       "      <td>9.477698</td>\n",
       "      <td>12302500</td>\n",
       "    </tr>\n",
       "    <tr>\n",
       "      <th>2020-07-02</th>\n",
       "      <td>10.000000</td>\n",
       "      <td>10.040000</td>\n",
       "      <td>9.890000</td>\n",
       "      <td>9.920000</td>\n",
       "      <td>9.712683</td>\n",
       "      <td>12533400</td>\n",
       "    </tr>\n",
       "    <tr>\n",
       "      <th>2020-07-06</th>\n",
       "      <td>10.160000</td>\n",
       "      <td>10.230000</td>\n",
       "      <td>10.070000</td>\n",
       "      <td>10.110000</td>\n",
       "      <td>9.898711</td>\n",
       "      <td>8629600</td>\n",
       "    </tr>\n",
       "    <tr>\n",
       "      <th>2020-07-07</th>\n",
       "      <td>10.330000</td>\n",
       "      <td>10.400000</td>\n",
       "      <td>10.220000</td>\n",
       "      <td>10.240000</td>\n",
       "      <td>10.025994</td>\n",
       "      <td>17172600</td>\n",
       "    </tr>\n",
       "    <tr>\n",
       "      <th>...</th>\n",
       "      <td>...</td>\n",
       "      <td>...</td>\n",
       "      <td>...</td>\n",
       "      <td>...</td>\n",
       "      <td>...</td>\n",
       "      <td>...</td>\n",
       "    </tr>\n",
       "    <tr>\n",
       "      <th>2021-06-29</th>\n",
       "      <td>21.309999</td>\n",
       "      <td>21.500000</td>\n",
       "      <td>21.219999</td>\n",
       "      <td>21.450001</td>\n",
       "      <td>21.450001</td>\n",
       "      <td>4748600</td>\n",
       "    </tr>\n",
       "    <tr>\n",
       "      <th>2021-06-30</th>\n",
       "      <td>21.410000</td>\n",
       "      <td>21.430000</td>\n",
       "      <td>21.170000</td>\n",
       "      <td>21.190001</td>\n",
       "      <td>21.190001</td>\n",
       "      <td>6493500</td>\n",
       "    </tr>\n",
       "    <tr>\n",
       "      <th>2021-07-01</th>\n",
       "      <td>21.180000</td>\n",
       "      <td>21.240000</td>\n",
       "      <td>20.840000</td>\n",
       "      <td>20.959999</td>\n",
       "      <td>20.959999</td>\n",
       "      <td>4670600</td>\n",
       "    </tr>\n",
       "    <tr>\n",
       "      <th>2021-07-02</th>\n",
       "      <td>21.100000</td>\n",
       "      <td>21.150000</td>\n",
       "      <td>21.020000</td>\n",
       "      <td>21.070000</td>\n",
       "      <td>21.070000</td>\n",
       "      <td>4908600</td>\n",
       "    </tr>\n",
       "    <tr>\n",
       "      <th>2021-07-06</th>\n",
       "      <td>21.030001</td>\n",
       "      <td>21.110001</td>\n",
       "      <td>20.980000</td>\n",
       "      <td>21.110001</td>\n",
       "      <td>21.110001</td>\n",
       "      <td>5728600</td>\n",
       "    </tr>\n",
       "  </tbody>\n",
       "</table>\n",
       "<p>256 rows × 6 columns</p>\n",
       "</div>"
      ],
      "text/plain": [
       "                 Open       High        Low      Close  Adj Close    Volume\n",
       "Date                                                                       \n",
       "2020-06-30   9.560000   9.700000   9.520000   9.660000   9.458116  10269600\n",
       "2020-07-01   9.560000   9.730000   9.530000   9.680000   9.477698  12302500\n",
       "2020-07-02  10.000000  10.040000   9.890000   9.920000   9.712683  12533400\n",
       "2020-07-06  10.160000  10.230000  10.070000  10.110000   9.898711   8629600\n",
       "2020-07-07  10.330000  10.400000  10.220000  10.240000  10.025994  17172600\n",
       "...               ...        ...        ...        ...        ...       ...\n",
       "2021-06-29  21.309999  21.500000  21.219999  21.450001  21.450001   4748600\n",
       "2021-06-30  21.410000  21.430000  21.170000  21.190001  21.190001   6493500\n",
       "2021-07-01  21.180000  21.240000  20.840000  20.959999  20.959999   4670600\n",
       "2021-07-02  21.100000  21.150000  21.020000  21.070000  21.070000   4908600\n",
       "2021-07-06  21.030001  21.110001  20.980000  21.110001  21.110001   5728600\n",
       "\n",
       "[256 rows x 6 columns]"
      ]
     },
     "execution_count": 321,
     "metadata": {},
     "output_type": "execute_result"
    }
   ],
   "source": [
    "df[\"Adj Close\"].head\n",
    "df.dropna()"
   ]
  },
  {
   "cell_type": "code",
   "execution_count": 322,
   "metadata": {},
   "outputs": [
    {
     "data": {
      "text/plain": [
       "<matplotlib.axes._subplots.AxesSubplot at 0x1e70cdbdf28>"
      ]
     },
     "execution_count": 322,
     "metadata": {},
     "output_type": "execute_result"
    },
    {
     "data": {
      "image/png": "[encoded data removed]",
      "text/plain": [
       "<Figure size 1152x576 with 1 Axes>"
      ]
     },
     "metadata": {
      "needs_background": "light"
     },
     "output_type": "display_data"
    }
   ],
   "source": [
    "df[\"Adj Close\"].plot(figsize=(16,8))"
   ]
  },
  {
   "cell_type": "code",
   "execution_count": 323,
   "metadata": {},
   "outputs": [],
   "source": [
    "from statsmodels.tsa.stattools import adfuller"
   ]
  },
  {
   "cell_type": "code",
   "execution_count": 313,
   "metadata": {},
   "outputs": [],
   "source": [
    "#to Comment on stationarity of graph we need to perform ADFULLER test\n",
    "#creating a function which runs ADFUller test on dataset\n",
    "#adfuller test will return array of different values: ADF,p-value, number of lags etc\n",
    "def ADF(dataset):\n",
    "    ADFtest= adfuller(dataset, autolag='AIC')\n",
    "    print(\"ADF value\",ADFtest[0])\n",
    "    print(\"p value\",ADFtest[1])\n",
    "    print(\"number of lags\", ADFtest[2])\n",
    "    print(\"number of obesrvations\", ADFtest[3])\n",
    "    \n",
    "#p-value is most important...the less the value themore graph is stationary: ideally it should beless than 0.05"
   ]
  },
  {
   "cell_type": "code",
   "execution_count": 314,
   "metadata": {},
   "outputs": [
    {
     "name": "stdout",
     "output_type": "stream",
     "text": [
      "ADF value -1.5299533997398442\n",
      "p value 0.5186452340423913\n",
      "number of lags 1\n",
      "number of obesrvations 254\n"
     ]
    }
   ],
   "source": [
    "ADF(df[\"Adj Close\"])"
   ]
  },
  {
   "cell_type": "code",
   "execution_count": 324,
   "metadata": {},
   "outputs": [],
   "source": [
    "df[\"Adj Close\"]= np.log(df[\"Adj Close\"])"
   ]
  },
  {
   "cell_type": "code",
   "execution_count": 325,
   "metadata": {},
   "outputs": [],
   "source": [
    "from pmdarima import auto_arima"
   ]
  },
  {
   "cell_type": "code",
   "execution_count": 326,
   "metadata": {},
   "outputs": [],
   "source": [
    "import warnings\n",
    "warnings.filterwarnings(\"ignore\")"
   ]
  },
  {
   "cell_type": "code",
   "execution_count": 327,
   "metadata": {},
   "outputs": [
    {
     "data": {
      "text/plain": [
       "241"
      ]
     },
     "execution_count": 327,
     "metadata": {},
     "output_type": "execute_result"
    }
   ],
   "source": [
    "x=len(df)\n",
    "x=x-15\n",
    "train=df['Adj Close'][:x]\n",
    "test=df['Adj Close'][x:]\n",
    "x"
   ]
  },
  {
   "cell_type": "code",
   "execution_count": 328,
   "metadata": {},
   "outputs": [
    {
     "name": "stdout",
     "output_type": "stream",
     "text": [
      "Performing stepwise search to minimize aic\n",
      " ARIMA(2,1,2)(0,0,0)[0] intercept   : AIC=-1211.884, Time=0.42 sec\n",
      " ARIMA(0,1,0)(0,0,0)[0] intercept   : AIC=-1218.647, Time=0.02 sec\n",
      " ARIMA(1,1,0)(0,0,0)[0] intercept   : AIC=-1217.268, Time=0.04 sec\n",
      " ARIMA(0,1,1)(0,0,0)[0] intercept   : AIC=-1217.254, Time=0.05 sec\n",
      " ARIMA(0,1,0)(0,0,0)[0]             : AIC=-1213.842, Time=0.01 sec\n",
      " ARIMA(1,1,1)(0,0,0)[0] intercept   : AIC=-1215.340, Time=0.08 sec\n",
      "\n",
      "Best model:  ARIMA(0,1,0)(0,0,0)[0] intercept\n",
      "Total fit time: 0.631 seconds\n"
     ]
    }
   ],
   "source": [
    "findbest= auto_arima(train,trace=True,suppress_warnings=True)"
   ]
  },
  {
   "cell_type": "code",
   "execution_count": 329,
   "metadata": {},
   "outputs": [
    {
     "data": {
      "text/html": [
       "<table class=\"simpletable\">\n",
       "<caption>SARIMAX Results</caption>\n",
       "<tr>\n",
       "  <th>Dep. Variable:</th>           <td>y</td>        <th>  No. Observations:  </th>    <td>241</td>   \n",
       "</tr>\n",
       "<tr>\n",
       "  <th>Model:</th>           <td>SARIMAX(0, 1, 0)</td> <th>  Log Likelihood     </th>  <td>611.323</td> \n",
       "</tr>\n",
       "<tr>\n",
       "  <th>Date:</th>            <td>Wed, 07 Jul 2021</td> <th>  AIC                </th> <td>-1218.647</td>\n",
       "</tr>\n",
       "<tr>\n",
       "  <th>Time:</th>                <td>10:36:34</td>     <th>  BIC                </th> <td>-1211.685</td>\n",
       "</tr>\n",
       "<tr>\n",
       "  <th>Sample:</th>                  <td>0</td>        <th>  HQIC               </th> <td>-1215.842</td>\n",
       "</tr>\n",
       "<tr>\n",
       "  <th></th>                      <td> - 241</td>      <th>                     </th>     <td> </td>    \n",
       "</tr>\n",
       "<tr>\n",
       "  <th>Covariance Type:</th>        <td>opg</td>       <th>                     </th>     <td> </td>    \n",
       "</tr>\n",
       "</table>\n",
       "<table class=\"simpletable\">\n",
       "<tr>\n",
       "      <td></td>         <th>coef</th>     <th>std err</th>      <th>z</th>      <th>P>|z|</th>  <th>[0.025</th>    <th>0.975]</th>  \n",
       "</tr>\n",
       "<tr>\n",
       "  <th>intercept</th> <td>    0.0032</td> <td>    0.001</td> <td>    2.570</td> <td> 0.010</td> <td>    0.001</td> <td>    0.006</td>\n",
       "</tr>\n",
       "<tr>\n",
       "  <th>sigma2</th>    <td>    0.0004</td> <td> 1.69e-05</td> <td>   21.210</td> <td> 0.000</td> <td>    0.000</td> <td>    0.000</td>\n",
       "</tr>\n",
       "</table>\n",
       "<table class=\"simpletable\">\n",
       "<tr>\n",
       "  <th>Ljung-Box (L1) (Q):</th>     <td>0.63</td> <th>  Jarque-Bera (JB):  </th> <td>354.02</td>\n",
       "</tr>\n",
       "<tr>\n",
       "  <th>Prob(Q):</th>                <td>0.43</td> <th>  Prob(JB):          </th>  <td>0.00</td> \n",
       "</tr>\n",
       "<tr>\n",
       "  <th>Heteroskedasticity (H):</th> <td>0.58</td> <th>  Skew:              </th>  <td>0.58</td> \n",
       "</tr>\n",
       "<tr>\n",
       "  <th>Prob(H) (two-sided):</th>    <td>0.02</td> <th>  Kurtosis:          </th>  <td>8.84</td> \n",
       "</tr>\n",
       "</table><br/><br/>Warnings:<br/>[1] Covariance matrix calculated using the outer product of gradients (complex-step)."
      ],
      "text/plain": [
       "<class 'statsmodels.iolib.summary.Summary'>\n",
       "\"\"\"\n",
       "                               SARIMAX Results                                \n",
       "==============================================================================\n",
       "Dep. Variable:                      y   No. Observations:                  241\n",
       "Model:               SARIMAX(0, 1, 0)   Log Likelihood                 611.323\n",
       "Date:                Wed, 07 Jul 2021   AIC                          -1218.647\n",
       "Time:                        10:36:34   BIC                          -1211.685\n",
       "Sample:                             0   HQIC                         -1215.842\n",
       "                                - 241                                         \n",
       "Covariance Type:                  opg                                         \n",
       "==============================================================================\n",
       "                 coef    std err          z      P>|z|      [0.025      0.975]\n",
       "------------------------------------------------------------------------------\n",
       "intercept      0.0032      0.001      2.570      0.010       0.001       0.006\n",
       "sigma2         0.0004   1.69e-05     21.210      0.000       0.000       0.000\n",
       "===================================================================================\n",
       "Ljung-Box (L1) (Q):                   0.63   Jarque-Bera (JB):               354.02\n",
       "Prob(Q):                              0.43   Prob(JB):                         0.00\n",
       "Heteroskedasticity (H):               0.58   Skew:                             0.58\n",
       "Prob(H) (two-sided):                  0.02   Kurtosis:                         8.84\n",
       "===================================================================================\n",
       "\n",
       "Warnings:\n",
       "[1] Covariance matrix calculated using the outer product of gradients (complex-step).\n",
       "\"\"\""
      ]
     },
     "execution_count": 329,
     "metadata": {},
     "output_type": "execute_result"
    }
   ],
   "source": [
    "findbest.summary()"
   ]
  },
  {
   "cell_type": "code",
   "execution_count": 330,
   "metadata": {},
   "outputs": [],
   "source": [
    "from statsmodels.tsa.arima_model import ARIMA"
   ]
  },
  {
   "cell_type": "code",
   "execution_count": 331,
   "metadata": {},
   "outputs": [
    {
     "data": {
      "text/plain": [
       "((241,), (15,))"
      ]
     },
     "execution_count": 331,
     "metadata": {},
     "output_type": "execute_result"
    }
   ],
   "source": [
    "train.shape,test.shape"
   ]
  },
  {
   "cell_type": "code",
   "execution_count": 332,
   "metadata": {},
   "outputs": [],
   "source": [
    "model = ARIMA(train,order=(0,1,0))\n",
    "model=model.fit()"
   ]
  },
  {
   "cell_type": "code",
   "execution_count": 333,
   "metadata": {},
   "outputs": [
    {
     "data": {
      "text/html": [
       "<table class=\"simpletable\">\n",
       "<caption>ARIMA Model Results</caption>\n",
       "<tr>\n",
       "  <th>Dep. Variable:</th>    <td>D.Adj Close</td>   <th>  No. Observations:  </th>    <td>240</td>   \n",
       "</tr>\n",
       "<tr>\n",
       "  <th>Model:</th>          <td>ARIMA(0, 1, 0)</td>  <th>  Log Likelihood     </th>  <td>611.323</td> \n",
       "</tr>\n",
       "<tr>\n",
       "  <th>Method:</th>               <td>css</td>       <th>  S.D. of innovations</th>   <td>0.019</td>  \n",
       "</tr>\n",
       "<tr>\n",
       "  <th>Date:</th>          <td>Wed, 07 Jul 2021</td> <th>  AIC                </th> <td>-1218.647</td>\n",
       "</tr>\n",
       "<tr>\n",
       "  <th>Time:</th>              <td>10:36:43</td>     <th>  BIC                </th> <td>-1211.685</td>\n",
       "</tr>\n",
       "<tr>\n",
       "  <th>Sample:</th>                <td>1</td>        <th>  HQIC               </th> <td>-1215.842</td>\n",
       "</tr>\n",
       "<tr>\n",
       "  <th></th>                       <td> </td>        <th>                     </th>     <td> </td>    \n",
       "</tr>\n",
       "</table>\n",
       "<table class=\"simpletable\">\n",
       "<tr>\n",
       "    <td></td>       <th>coef</th>     <th>std err</th>      <th>z</th>      <th>P>|z|</th>  <th>[0.025</th>    <th>0.975]</th>  \n",
       "</tr>\n",
       "<tr>\n",
       "  <th>const</th> <td>    0.0032</td> <td>    0.001</td> <td>    2.627</td> <td> 0.009</td> <td>    0.001</td> <td>    0.006</td>\n",
       "</tr>\n",
       "</table>"
      ],
      "text/plain": [
       "<class 'statsmodels.iolib.summary.Summary'>\n",
       "\"\"\"\n",
       "                             ARIMA Model Results                              \n",
       "==============================================================================\n",
       "Dep. Variable:            D.Adj Close   No. Observations:                  240\n",
       "Model:                 ARIMA(0, 1, 0)   Log Likelihood                 611.323\n",
       "Method:                           css   S.D. of innovations              0.019\n",
       "Date:                Wed, 07 Jul 2021   AIC                          -1218.647\n",
       "Time:                        10:36:43   BIC                          -1211.685\n",
       "Sample:                             1   HQIC                         -1215.842\n",
       "                                                                              \n",
       "==============================================================================\n",
       "                 coef    std err          z      P>|z|      [0.025      0.975]\n",
       "------------------------------------------------------------------------------\n",
       "const          0.0032      0.001      2.627      0.009       0.001       0.006\n",
       "==============================================================================\n",
       "\"\"\""
      ]
     },
     "execution_count": 333,
     "metadata": {},
     "output_type": "execute_result"
    }
   ],
   "source": [
    "model.summary()"
   ]
  },
  {
   "cell_type": "code",
   "execution_count": 343,
   "metadata": {},
   "outputs": [],
   "source": [
    "pred=model.predict(start=len(train),end=(len(train)+len(test)-1),typ='levels')"
   ]
  },
  {
   "cell_type": "code",
   "execution_count": 344,
   "metadata": {},
   "outputs": [],
   "source": [
    "pred.index=test.index"
   ]
  },
  {
   "cell_type": "code",
   "execution_count": 336,
   "metadata": {},
   "outputs": [
    {
     "data": {
      "text/plain": [
       "Date\n",
       "2021-06-15    3.021196\n",
       "2021-06-16    3.024409\n",
       "2021-06-17    3.027622\n",
       "2021-06-18    3.030835\n",
       "2021-06-21    3.034048\n",
       "2021-06-22    3.037261\n",
       "2021-06-23    3.040474\n",
       "2021-06-24    3.043687\n",
       "2021-06-25    3.046900\n",
       "2021-06-28    3.050112\n",
       "2021-06-29    3.053325\n",
       "2021-06-30    3.056538\n",
       "2021-07-01    3.059751\n",
       "2021-07-02    3.062964\n",
       "2021-07-06    3.066177\n",
       "dtype: float64"
      ]
     },
     "execution_count": 336,
     "metadata": {},
     "output_type": "execute_result"
    }
   ],
   "source": [
    "pred"
   ]
  },
  {
   "cell_type": "code",
   "execution_count": 337,
   "metadata": {},
   "outputs": [
    {
     "data": {
      "text/plain": [
       "<matplotlib.axes._subplots.AxesSubplot at 0x1e70d5a5be0>"
      ]
     },
     "execution_count": 337,
     "metadata": {},
     "output_type": "execute_result"
    },
    {
     "data": {
      "image/png": "[encoded data removed]",
      "text/plain": [
       "<Figure size 432x288 with 1 Axes>"
      ]
     },
     "metadata": {
      "needs_background": "light"
     },
     "output_type": "display_data"
    }
   ],
   "source": [
    "pred.plot(legend=True,label='Prediction')\n",
    "test.plot(legend=True,label='Actual Price')"
   ]
  },
  {
   "cell_type": "code",
   "execution_count": 338,
   "metadata": {},
   "outputs": [],
   "source": [
    "from sklearn.metrics import mean_squared_error\n",
    "from math import sqrt\n"
   ]
  },
  {
   "cell_type": "code",
   "execution_count": 339,
   "metadata": {},
   "outputs": [],
   "source": [
    "rmse=sqrt(mean_squared_error(pred,test))\n"
   ]
  },
  {
   "cell_type": "code",
   "execution_count": 340,
   "metadata": {},
   "outputs": [
    {
     "data": {
      "text/plain": [
       "0.012761748375146277"
      ]
     },
     "execution_count": 340,
     "metadata": {},
     "output_type": "execute_result"
    }
   ],
   "source": [
    "rmse"
   ]
  },
  {
   "cell_type": "code",
   "execution_count": null,
   "metadata": {},
   "outputs": [],
   "source": []
  },
  {
   "cell_type": "code",
   "execution_count": null,
   "metadata": {},
   "outputs": [],
   "source": []
  }
 ],
 "metadata": {
  "kernelspec": {
   "display_name": "Python 3",
   "language": "python",
   "name": "python3"
  },
  "language_info": {
   "codemirror_mode": {
    "name": "ipython",
    "version": 3
   },
   "file_extension": ".py",
   "mimetype": "text/x-python",
   "name": "python",
   "nbconvert_exporter": "python",
   "pygments_lexer": "ipython3",
   "version": "3.7.1"
  }
 },
 "nbformat": 4,
 "nbformat_minor": 2
}
